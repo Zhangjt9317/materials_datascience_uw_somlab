{
 "cells": [
  {
   "cell_type": "code",
   "execution_count": null,
   "metadata": {},
   "outputs": [],
   "source": [
    "import logging\n",
    "from tfprop_vis import ViewTFP, potential_func, kmeans_clust\n",
    "import tfprop_som as tfpsom\n",
    "import pandas as pd\n",
    "import matplotlib.pyplot as plt\n",
    "import numpy as np\n",
    "\n",
    "import ipywidgets as widgets"
   ]
  },
  {
   "cell_type": "code",
   "execution_count": null,
   "metadata": {},
   "outputs": [],
   "source": [
    "# may a pox befall the sompy dev who put logging configuration inside a programming library\n",
    "logging.getLogger().setLevel(logging.WARN)"
   ]
  },
  {
   "cell_type": "code",
   "execution_count": null,
   "metadata": {},
   "outputs": [],
   "source": [
    "codemat_df = pd.read_hdf(tfpsom.fout_train, 'sm_codebook_matrix')\n",
    "tfpsom.sm.codebook.matrix = codemat_df.as_matrix()"
   ]
  },
  {
   "cell_type": "code",
   "execution_count": null,
   "metadata": {
    "scrolled": false
   },
   "outputs": [],
   "source": [
    "%matplotlib inline\n",
    "heatmap_size = (20, 20)\n",
    "heatmap_col_sz = 4\n",
    "gauss_alpha = None\n",
    "\n",
    "viewTFP = ViewTFP(*heatmap_size, '', stdev_colorscale_coeff=10., text_size=14)\n",
    "\n",
    "cmap = plt.get_cmap('RdYlBu_r')  # set color map\n",
    "cl_labels = kmeans_clust(tfpsom.sm, n_clusters=tfpsom.km_cluster)\n",
    "\n",
    "# No scaling\n",
    "viewTFP.knee_value = 0.0\n",
    "viewTFP.show(tfpsom.sm, cl_labels, col_sz=heatmap_col_sz,\n",
    "                     which_dim='all', desnormalize=True, col_norm='mean',\n",
    "                     cmap=cmap)"
   ]
  },
  {
   "cell_type": "code",
   "execution_count": null,
   "metadata": {
    "scrolled": false
   },
   "outputs": [],
   "source": [
    "%matplotlib inline\n",
    "heatmap_size = (20, 20)\n",
    "heatmap_col_sz = 4\n",
    "gauss_alpha = None\n",
    "\n",
    "viewTFP = ViewTFP(*heatmap_size, '', stdev_colorscale_coeff=3., text_size=14)\n",
    "\n",
    "cmap = plt.get_cmap('RdYlBu_r')  # set color map\n",
    "cl_labels = kmeans_clust(tfpsom.sm, n_clusters=tfpsom.km_cluster)\n",
    "\n",
    "# No scaling\n",
    "viewTFP.knee_value = 0.0\n",
    "viewTFP.show(tfpsom.sm, cl_labels, col_sz=heatmap_col_sz,\n",
    "                     which_dim='all', desnormalize=True, col_norm='mean',\n",
    "                     cmap=cmap)"
   ]
  },
  {
   "cell_type": "code",
   "execution_count": null,
   "metadata": {
    "scrolled": false
   },
   "outputs": [],
   "source": [
    "%matplotlib inline\n",
    "viewTFP3 = ViewTFP(*heatmap_size, '', text_size=14)\n",
    "\n",
    "# Using logarithmic scaling\n",
    "viewTFP3.show(tfpsom.sm, cl_labels, col_sz=heatmap_col_sz,\n",
    "                     which_dim='all', desnormalize=True, col_norm='mean',\n",
    "                     cmap=cmap, normalizer='log')"
   ]
  },
  {
   "cell_type": "code",
   "execution_count": null,
   "metadata": {
    "scrolled": false
   },
   "outputs": [],
   "source": [
    "viewTFP2 = ViewTFP(*heatmap_size, '', text_size=14)\n",
    "\n",
    "# Some scaling\n",
    "viewTFP2.knee_value = 0.3\n",
    "viewTFP2.show(tfpsom.sm, cl_labels, col_sz=heatmap_col_sz,\n",
    "                     which_dim='all', desnormalize=True, col_norm='median',\n",
    "                     cmap=cmap)"
   ]
  },
  {
   "cell_type": "code",
   "execution_count": null,
   "metadata": {
    "scrolled": false
   },
   "outputs": [],
   "source": [
    "%matplotlib inline\n",
    "viewTFP4 = ViewTFP(*heatmap_size, '', text_size=14)\n",
    "\n",
    "# Some scaling\n",
    "viewTFP4.knee_value = 0.3\n",
    "viewTFP4.show(tfpsom.sm, cl_labels, col_sz=heatmap_col_sz,\n",
    "                     which_dim='all', desnormalize=True, col_norm='mean',\n",
    "                     cmap=cmap)"
   ]
  },
  {
   "cell_type": "markdown",
   "metadata": {},
   "source": [
    "## Scaling functions"
   ]
  },
  {
   "cell_type": "code",
   "execution_count": null,
   "metadata": {},
   "outputs": [],
   "source": [
    "import ipywidgets as widgets\n",
    "from tfprop_vis import create_knee_function\n",
    "import matplotlib"
   ]
  },
  {
   "cell_type": "code",
   "execution_count": null,
   "metadata": {
    "scrolled": true
   },
   "outputs": [],
   "source": [
    "%matplotlib notebook\n",
    "scaler_doubleknee = np.vectorize(create_knee_function(0.1, 0.5, 1, 0))\n",
    "\n",
    "symlognorm_demo = matplotlib.colors.SymLogNorm(linthresh=0.01, vmin=0, vmax=1)\n",
    "\n",
    "x = np.linspace(0,1)\n",
    "fig, (ax1, ax2, ax3) = plt.subplots(1, 3, sharey=True)\n",
    "ax1.title.set_text(\"Linear\")\n",
    "ax2.title.set_text(\"Double Knee\")\n",
    "ax3.title.set_text(\"Sym. Log\")\n",
    "line1, = ax1.plot(x, x)\n",
    "line2, = ax2.plot(x, scaler_doubleknee(x))\n",
    "line3, = ax3.plot(x, symlognorm_demo(x))\n",
    "\n",
    "def update_a(knee_cutoff, mid):\n",
    "    scaler_doubleknee = np.vectorize(create_knee_function(knee_cutoff, mid, 1, 0))\n",
    "    line2.set_ydata(scaler_doubleknee(x))\n",
    "    fig.canvas.draw()\n",
    "    \n",
    "def update_b(lt):\n",
    "    symlognorm_demo = matplotlib.colors.SymLogNorm(linthresh=lt, vmin=0, vmax=1)\n",
    "    line3.set_ydata(symlognorm_demo(x))\n",
    "    fig.canvas.draw()\n",
    "    \n",
    "doubleknee_cutoffslider = widgets.FloatSlider(min=0.0, max=0.5, step=0.05, value=0.1, continuous_update=False)\n",
    "scaler_middle = widgets.FloatSlider(min=0.0, max=1., step=0.05, value=0.5, continuous_update=False)\n",
    "linthresh_slider = widgets.FloatSlider(min=0.0001, max=1., value=0.1, continuous_update=False)\n",
    "\n",
    "widgets.interact(update_a, knee_cutoff=doubleknee_cutoffslider, mid=scaler_middle)\n",
    "widgets.interact(update_b, lt=linthresh_slider, continuous_update=False)"
   ]
  },
  {
   "cell_type": "code",
   "execution_count": null,
   "metadata": {},
   "outputs": [],
   "source": [
    "%matplotlib inline\n",
    "from tfprop_vis import UMatrixTFP\n",
    "logging.getLogger().setLevel(logging.WARN)\n",
    "\n",
    "umatrixTFP = UMatrixTFP(0, 0, '', text_size=14)\n",
    "\n",
    "cmap = plt.get_cmap('RdYlBu_r')  # set color map\n",
    "umat = umatrixTFP.show(tfpsom.sm, tfpsom.fluid_name_df,\n",
    "                       tfpsom.fluid_name_df,\n",
    "                       show_data=True, labels=True, contooor=False,\n",
    "                       cmap=cmap)"
   ]
  }
 ],
 "metadata": {
  "kernelspec": {
   "display_name": "Python 3",
   "language": "python",
   "name": "python3"
  },
  "language_info": {
   "codemirror_mode": {
    "name": "ipython",
    "version": 3
   },
   "file_extension": ".py",
   "mimetype": "text/x-python",
   "name": "python",
   "nbconvert_exporter": "python",
   "pygments_lexer": "ipython3",
   "version": "3.7.3"
  }
 },
 "nbformat": 4,
 "nbformat_minor": 2
}
